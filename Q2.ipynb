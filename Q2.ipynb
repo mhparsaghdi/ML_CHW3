{
  "cells": [
    {
      "cell_type": "markdown",
      "metadata": {
        "id": "7IK5jV1k7gqz"
      },
      "source": [
        "<h1 align=\"center\">Introduction to Machine Learning - 25737-2</h1>\n",
        "<h4 align=\"center\">Dr. Fatemi Zadeh</h4>\n",
        "<h4 align=\"center\">Sharif University of Technology, Fall 2024</h4>\n",
        "\n",
        "\n",
        "**<font color='red'>Plagiarism is strongly prohibited!</font>**\n",
        "\n",
        "\n",
        "**Student Name**: Mohammadparsa Ghaderahamdi\n",
        "\n",
        "**Student ID**: 401102253\n"
      ]
    },
    {
      "cell_type": "markdown",
      "metadata": {
        "id": "g83uy8ndLMtF"
      },
      "source": [
        "# **Question 2 - Logistic Regression**\n",
        "\n",
        "In this exercise, you will implement logistic regression and apply it to two different datasets.\n",
        "\n"
      ]
    },
    {
      "cell_type": "markdown",
      "metadata": {
        "id": "a8VNuixPLMtH"
      },
      "source": [
        "<a name=\"1\"></a>\n",
        "## 1 - Packages\n",
        "\n",
        "First, let's run the cell below to import all the packages that you will need during this assignment.\n",
        "- [numpy](www.numpy.org) is the fundamental package for scientific computing with Python.\n",
        "- [matplotlib](http://matplotlib.org) is a famous library to plot graphs in Python.\n",
        "-  ``utils.py`` contains helper functions for this assignment. You do not need to modify code in this file."
      ]
    },
    {
      "cell_type": "code",
      "execution_count": 1,
      "metadata": {
        "id": "ROiHdVQxLMtI"
      },
      "outputs": [],
      "source": [
        "import numpy as np\n",
        "import matplotlib.pyplot as plt\n",
        "from utils import *\n",
        "import copy\n",
        "import math\n",
        "\n",
        "%matplotlib inline"
      ]
    },
    {
      "cell_type": "markdown",
      "metadata": {
        "id": "ICq4-gGYLMtJ"
      },
      "source": [
        "<a name=\"2\"></a>\n",
        "## 2 - Logistic Regression\n",
        "\n",
        "In this part of the exercise, you will build a logistic regression model to predict whether a student gets admitted into a university.\n",
        "\n",
        "<a name=\"2.1\"></a>\n",
        "### 2.1 Problem Statement\n",
        "\n",
        "Suppose that you are the administrator of a university department and you want to determine each applicant’s chance of admission based on their results on two exams.\n",
        "* You have historical data from previous applicants that you can use as a training set for logistic regression.\n",
        "* For each training example, you have the applicant’s scores on two exams and the admissions decision.\n",
        "* Your task is to build a classification model that estimates an applicant’s probability of admission based on the scores from those two exams.\n",
        "\n",
        "<a name=\"2.2\"></a>\n",
        "### 2.2 Loading and visualizing the data\n",
        "\n",
        "You will start by loading the dataset for this task.\n",
        "- The `load_dataset()` function shown below loads the data into variables `X_train` and `y_train`\n",
        "  - `X_train` contains exam scores on two exams for a student\n",
        "  - `y_train` is the admission decision\n",
        "      - `y_train = 1` if the student was admitted\n",
        "      - `y_train = 0` if the student was not admitted\n",
        "  - Both `X_train` and `y_train` are numpy arrays.\n"
      ]
    },
    {
      "cell_type": "code",
      "execution_count": 6,
      "metadata": {
        "id": "yKelc0qoLMtK"
      },
      "outputs": [],
      "source": [
        "# load dataset\n",
        "X_train, y_train = load_data(\"ex2data1.txt\")"
      ]
    },
    {
      "cell_type": "markdown",
      "metadata": {
        "id": "JzBivta-LMtL"
      },
      "source": [
        "#### View the variables\n",
        "Let's get more familiar with your dataset.  \n",
        "- A good place to start is to just print out each variable and see what it contains.\n",
        "\n",
        "The code below prints the first five values of `X_train` and the type of the variable."
      ]
    },
    {
      "cell_type": "code",
      "execution_count": 7,
      "metadata": {
        "colab": {
          "base_uri": "https://localhost:8080/"
        },
        "id": "R_RA2fF0LMtL",
        "outputId": "35a3bea7-a90a-4a3d-a169-e8251e925f89"
      },
      "outputs": [
        {
          "name": "stdout",
          "output_type": "stream",
          "text": [
            "First five elements in X_train are:\n",
            " [[34.62365962 78.02469282]\n",
            " [30.28671077 43.89499752]\n",
            " [35.84740877 72.90219803]\n",
            " [60.18259939 86.3085521 ]\n",
            " [79.03273605 75.34437644]]\n",
            "Type of X_train: <class 'numpy.ndarray'>\n"
          ]
        }
      ],
      "source": [
        "print(\"First five elements in X_train are:\\n\", X_train[:5])\n",
        "print(\"Type of X_train:\",type(X_train))"
      ]
    },
    {
      "cell_type": "markdown",
      "metadata": {
        "id": "MqbpK4RuLMtM"
      },
      "source": [
        "Now print the first five values of `y_train`"
      ]
    },
    {
      "cell_type": "code",
      "execution_count": 8,
      "metadata": {
        "colab": {
          "base_uri": "https://localhost:8080/"
        },
        "id": "UdNI_xGnLMtM",
        "outputId": "9879deb7-5824-41fa-e00e-5f5a7f1b0363"
      },
      "outputs": [
        {
          "name": "stdout",
          "output_type": "stream",
          "text": [
            "First five elements in y_train are:\n",
            " [0. 0. 0. 1. 1.]\n",
            "Type of y_train: <class 'numpy.ndarray'>\n"
          ]
        }
      ],
      "source": [
        "print(\"First five elements in y_train are:\\n\", y_train[:5])\n",
        "print(\"Type of y_train:\",type(y_train))"
      ]
    },
    {
      "cell_type": "markdown",
      "metadata": {
        "id": "9S8aAJGnLMtN"
      },
      "source": [
        "#### Check the dimensions of your variables\n",
        "\n",
        "Another useful way to get familiar with your data is to view its dimensions. Let's print the shape of `X_train` and `y_train` and see how many training examples we have in our dataset."
      ]
    },
    {
      "cell_type": "code",
      "execution_count": 9,
      "metadata": {
        "colab": {
          "base_uri": "https://localhost:8080/"
        },
        "id": "-rAkAmCsLMtO",
        "outputId": "d3a33e89-e4aa-4b08-e6c2-cc2a6eb7651a"
      },
      "outputs": [
        {
          "name": "stdout",
          "output_type": "stream",
          "text": [
            "The shape of X_train is: (100, 2)\n",
            "The shape of y_train is: (100,)\n",
            "We have m = 100 training examples\n"
          ]
        }
      ],
      "source": [
        "print ('The shape of X_train is: ' + str(X_train.shape))\n",
        "print ('The shape of y_train is: ' + str(y_train.shape))\n",
        "print ('We have m = %d training examples' % (len(y_train)))"
      ]
    },
    {
      "cell_type": "markdown",
      "metadata": {
        "id": "AJoCfqfgLMtO"
      },
      "source": [
        "#### Visualize your data\n",
        "\n",
        "Before starting to implement any learning algorithm, it is always good to visualize the data if possible.\n",
        "- The code below displays the data on a 2D plot (as shown below), where the axes are the two exam scores, and the positive and negative examples are shown with different markers.\n",
        "- We use a helper function in the ``utils.py`` file to generate this plot.\n",
        "\n"
      ]
    },
    {
      "cell_type": "code",
      "execution_count": 10,
      "metadata": {
        "id": "PP_DwxzcLMtP"
      },
      "outputs": [
        {
          "data": {
            "image/png": "[encoded data removed]",
            "text/plain": [
              "<Figure size 640x480 with 1 Axes>"
            ]
          },
          "metadata": {},
          "output_type": "display_data"
        }
      ],
      "source": [
        "# Plot examples\n",
        "plot_data(X_train, y_train[:], pos_label=\"Admitted\", neg_label=\"Not admitted\")\n",
        "\n",
        "# Set the y-axis label\n",
        "plt.ylabel('Exam 2 score')\n",
        "# Set the x-axis label\n",
        "plt.xlabel('Exam 1 score')\n",
        "plt.legend(loc=\"upper right\")\n",
        "plt.show()"
      ]
    },
    {
      "cell_type": "markdown",
      "metadata": {
        "id": "07ImqabjLMtP"
      },
      "source": [
        "Your goal is to build a logistic regression model to fit this data.\n",
        "- With this model, you can then predict if a new student will be admitted based on their scores on the two exams."
      ]
    },
    {
      "cell_type": "markdown",
      "metadata": {
        "id": "vLVTinTzLMtP"
      },
      "source": [
        "<a name=\"2.3\"></a>\n",
        "### 2.3  Sigmoid function\n",
        "\n",
        "Recall that for logistic regression, the model is represented as\n",
        "\n",
        "$$ f_{\\mathbf{w},b}(x) = g(\\mathbf{w}\\cdot \\mathbf{x} + b)$$\n",
        "where function $g$ is the sigmoid function. The sigmoid function is defined as:\n",
        "\n",
        "$$g(z) = \\frac{1}{1+e^{-z}}$$\n",
        "\n",
        "Let's implement the sigmoid function first, so it can be used by the rest of this assignment.\n",
        "\n",
        "<a name='ex-01'></a>\n",
        "### Exercise 1\n",
        "Please complete  the `sigmoid` function to calculate\n",
        "\n",
        "$$g(z) = \\frac{1}{1+e^{-z}}$$\n",
        "\n",
        "Note that\n",
        "- `z` is not always a single number, but can also be an array of numbers.\n",
        "- If the input is an array of numbers, we'd like to apply the sigmoid function to each value in the input array.\n"
      ]
    },
    {
      "cell_type": "code",
      "execution_count": 11,
      "metadata": {
        "id": "cfLX0MzbLMtQ"
      },
      "outputs": [],
      "source": [
        "# UNQ_C1\n",
        "# GRADED FUNCTION: sigmoid\n",
        "\n",
        "def sigmoid(z):\n",
        "    \"\"\"\n",
        "    Compute the sigmoid of z\n",
        "\n",
        "    Args:\n",
        "        z (ndarray): A scalar, numpy array of any size.\n",
        "\n",
        "    Returns:\n",
        "        g (ndarray): sigmoid(z), with the same shape as z\n",
        "\n",
        "    \"\"\"\n",
        "\n",
        "    ### START CODE HERE ###\n",
        "    g = 1 / (1 + np.exp(-1*z))\n",
        "    ### END SOLUTION ###\n",
        "\n",
        "    return g"
      ]
    },
    {
      "cell_type": "markdown",
      "metadata": {
        "id": "ZZOHHU2CLMtR"
      },
      "source": [
        "When you are finished, try testing a few values by calling `sigmoid(x)` in the cell below.\n",
        "- For large positive values of x, the sigmoid should be close to 1, while for large negative values, the sigmoid should be close to 0.\n",
        "- Evaluating `sigmoid(0)` should give you exactly 0.5.\n"
      ]
    },
    {
      "cell_type": "code",
      "execution_count": 12,
      "metadata": {
        "id": "FuZJlTH8LMtR"
      },
      "outputs": [
        {
          "name": "stdout",
          "output_type": "stream",
          "text": [
            "sigmoid(0) = 0.5\n"
          ]
        }
      ],
      "source": [
        "print (\"sigmoid(0) = \" + str(sigmoid(0)))"
      ]
    },
    {
      "cell_type": "markdown",
      "metadata": {
        "id": "bCywDozOLMtR"
      },
      "source": [
        "- As mentioned before, your code should also work with vectors and matrices. For a matrix, your function should perform the sigmoid function on every element."
      ]
    },
    {
      "cell_type": "code",
      "execution_count": 13,
      "metadata": {
        "id": "JbHSSFxRLMtS"
      },
      "outputs": [
        {
          "name": "stdout",
          "output_type": "stream",
          "text": [
            "sigmoid([ -1, 0, 1, 2]) = [0.26894142 0.5        0.73105858 0.88079708]\n",
            "\u001b[92mAll tests passed!\n"
          ]
        }
      ],
      "source": [
        "print (\"sigmoid([ -1, 0, 1, 2]) = \" + str(sigmoid(np.array([-1, 0, 1, 2]))))\n",
        "\n",
        "# UNIT TESTS\n",
        "from public_tests import *\n",
        "sigmoid_test(sigmoid)"
      ]
    },
    {
      "cell_type": "markdown",
      "metadata": {
        "id": "tHhCSxHuLMtS"
      },
      "source": [
        "<a name=\"2.4\"></a>\n",
        "### 2.4 Cost function for logistic regression\n",
        "\n",
        "In this section, you will implement the cost function for logistic regression.\n",
        "\n",
        "<a name='ex-02'></a>\n",
        "### Exercise 2\n",
        "\n",
        "Please complete the `compute_cost` function using the equations below.\n",
        "\n",
        "Recall that for logistic regression, the cost function is of the form\n",
        "\n",
        "$$ J(\\mathbf{w},b) = \\frac{1}{m}\\sum_{i=0}^{m-1} \\left[ loss(f_{\\mathbf{w},b}(\\mathbf{x}^{(i)}), y^{(i)}) \\right] \\tag{1}$$\n",
        "\n",
        "where\n",
        "* m is the number of training examples in the dataset\n",
        "\n",
        "\n",
        "* $loss(f_{\\mathbf{w},b}(\\mathbf{x}^{(i)}), y^{(i)})$ is the cost for a single data point, which is -\n",
        "\n",
        "    $$loss(f_{\\mathbf{w},b}(\\mathbf{x}^{(i)}), y^{(i)}) = (-y^{(i)} \\log\\left(f_{\\mathbf{w},b}\\left( \\mathbf{x}^{(i)} \\right) \\right) - \\left( 1 - y^{(i)}\\right) \\log \\left( 1 - f_{\\mathbf{w},b}\\left( \\mathbf{x}^{(i)} \\right) \\right) \\tag{2}$$\n",
        "    \n",
        "    \n",
        "*  $f_{\\mathbf{w},b}(\\mathbf{x}^{(i)})$ is the model's prediction, while $y^{(i)}$, which is the actual label\n",
        "\n",
        "*  $f_{\\mathbf{w},b}(\\mathbf{x}^{(i)}) = g(\\mathbf{w} \\cdot \\mathbf{x^{(i)}} + b)$ where function $g$ is the sigmoid function.\n",
        "\n",
        "* It might be helpful to first calculate an intermediate variable $ z_{\\mathbf{w},b}(\\mathbf{x}^{(i)}) = \\mathbf{w} \\cdot \\mathbf{x^{(i)}} + b = w_0x^{(i)}_0 + ... + w_{n-1}x^{(i)}_{n-1} + b $ where n is the number of features, before calculating $f_{\\mathbf{w},b}(\\mathbf{x}^{(i)}) = g(z_{\\mathbf{w},b}(\\mathbf{x}^{(i)}))$\n",
        "\n",
        "Note:\n",
        "* As you are doing this, remember that the variables `X_train` and `y_train` are not scalar values but matrices of shape ($m, n$) and ($𝑚$,1) respectively, where  $𝑛$ is the number of features and $𝑚$ is the number of training examples.\n",
        "* You can use the sigmoid function that you implemented above for this part.\n"
      ]
    },
    {
      "cell_type": "code",
      "execution_count": 34,
      "metadata": {
        "id": "RH-OcbykLMtT"
      },
      "outputs": [],
      "source": [
        "# UNQ_C2\n",
        "# GRADED FUNCTION: compute_cost\n",
        "def compute_cost(X, y, w, b, lambda_= 1):\n",
        "    \"\"\"\n",
        "    Computes the cost over all examples\n",
        "    Args:\n",
        "      X : (ndarray Shape (m,n)) data, m examples by n features\n",
        "      y : (array_like Shape (m,)) target value\n",
        "      w : (array_like Shape (n,)) Values of parameters of the model\n",
        "      b : scalar Values of bias parameter of the model\n",
        "      lambda_: unused placeholder\n",
        "    Returns:\n",
        "      total_cost: (scalar)         cost\n",
        "    \"\"\"\n",
        "\n",
        "    m, n = X.shape\n",
        "\n",
        "    ### START CODE HERE ###\n",
        "    Y1 = sigmoid(X @ w + b)\n",
        "    Y2 = 1 - Y1\n",
        "    total_cost = np.sum(np.dot(-y, np.log(Y1)) - np.dot(1-y, np.log(Y2))) / m\n",
        "    ### END CODE HERE ###\n",
        "\n",
        "    return total_cost"
      ]
    },
    {
      "cell_type": "markdown",
      "metadata": {
        "id": "7oU6TfplLMtU"
      },
      "source": [
        "Run the cells below to check your implementation of the `compute_cost` function with two different initializations of the parameters $w$"
      ]
    },
    {
      "cell_type": "code",
      "execution_count": 35,
      "metadata": {
        "id": "rac8BptULMtU"
      },
      "outputs": [
        {
          "name": "stdout",
          "output_type": "stream",
          "text": [
            "Cost at initial w (zeros): 0.693\n"
          ]
        }
      ],
      "source": [
        "m, n = X_train.shape\n",
        "\n",
        "# Compute and display cost with w initialized to zeroes\n",
        "initial_w = np.zeros(n)\n",
        "initial_b = 0.\n",
        "cost = compute_cost(X_train, y_train, initial_w, initial_b)\n",
        "print('Cost at initial w (zeros): {:.3f}'.format(cost))"
      ]
    },
    {
      "cell_type": "code",
      "execution_count": 36,
      "metadata": {
        "id": "T_ID-XJiLMtV"
      },
      "outputs": [
        {
          "name": "stdout",
          "output_type": "stream",
          "text": [
            "Cost at test w,b: 0.218\n",
            "\u001b[92mAll tests passed!\n"
          ]
        }
      ],
      "source": [
        "# Compute and display cost with non-zero w\n",
        "test_w = np.array([0.2, 0.2])\n",
        "test_b = -24.\n",
        "cost = compute_cost(X_train, y_train, test_w, test_b)\n",
        "\n",
        "print('Cost at test w,b: {:.3f}'.format(cost))\n",
        "\n",
        "\n",
        "# UNIT TESTS\n",
        "compute_cost_test(compute_cost)\n"
      ]
    },
    {
      "cell_type": "markdown",
      "metadata": {
        "id": "GVhv_3s4LMtV"
      },
      "source": [
        "<a name=\"2.5\"></a>\n",
        "### 2.5 Gradient for logistic regression\n",
        "\n",
        "In this section, you will implement the gradient for logistic regression.\n",
        "\n",
        "Recall that the gradient descent algorithm is:\n",
        "\n",
        "$$\\begin{align*}& \\text{repeat until convergence:} \\; \\lbrace \\newline \\; & b := b -  \\alpha \\frac{\\partial J(\\mathbf{w},b)}{\\partial b} \\newline       \\; & w_j := w_j -  \\alpha \\frac{\\partial J(\\mathbf{w},b)}{\\partial w_j} \\tag{1}  \\; & \\text{for j := 0..n-1}\\newline & \\rbrace\\end{align*}$$\n",
        "\n",
        "where, parameters $b$, $w_j$ are all updated simultaniously"
      ]
    },
    {
      "cell_type": "markdown",
      "metadata": {
        "id": "AiMtsTBtLMtV"
      },
      "source": [
        "\n",
        "<a name='ex-03'></a>\n",
        "### Exercise 3\n",
        "\n",
        "Please complete the `compute_gradient` function to compute $\\frac{\\partial J(\\mathbf{w},b)}{\\partial w}$, $\\frac{\\partial J(\\mathbf{w},b)}{\\partial b}$ from equations (2) and (3) below.\n",
        "\n",
        "$$\n",
        "\\frac{\\partial J(\\mathbf{w},b)}{\\partial b}  = \\frac{1}{m} \\sum\\limits_{i = 0}^{m-1} (f_{\\mathbf{w},b}(\\mathbf{x}^{(i)}) - \\mathbf{y}^{(i)}) \\tag{2}\n",
        "$$\n",
        "$$\n",
        "\\frac{\\partial J(\\mathbf{w},b)}{\\partial w_j}  = \\frac{1}{m} \\sum\\limits_{i = 0}^{m-1} (f_{\\mathbf{w},b}(\\mathbf{x}^{(i)}) - \\mathbf{y}^{(i)})x_{j}^{(i)} \\tag{3}\n",
        "$$\n",
        "* m is the number of training examples in the dataset\n",
        "\n",
        "    \n",
        "*  $f_{\\mathbf{w},b}(x^{(i)})$ is the model's prediction, while $y^{(i)}$ is the actual label\n",
        "\n",
        "\n",
        "- **Note**: While this gradient looks identical to the linear regression gradient, the formula is actually different because linear and logistic regression have different definitions of $f_{\\mathbf{w},b}(x)$."
      ]
    },
    {
      "cell_type": "code",
      "execution_count": 47,
      "metadata": {
        "id": "bIYNiY0ILMtV"
      },
      "outputs": [],
      "source": [
        "# UNQ_C3\n",
        "# GRADED FUNCTION: compute_gradient\n",
        "def compute_gradient(X, y, w, b, lambda_=None):\n",
        "    \"\"\"\n",
        "    Computes the gradient for logistic regression\n",
        "\n",
        "    Args:\n",
        "      X : (ndarray Shape (m,n)) variable such as house size\n",
        "      y : (array_like Shape (m,1)) actual value\n",
        "      w : (array_like Shape (n,1)) values of parameters of the model\n",
        "      b : (scalar)                 value of parameter of the model\n",
        "      lambda_: unused placeholder.\n",
        "    Returns\n",
        "      dj_dw: (array_like Shape (n,1)) The gradient of the cost w.r.t. the parameters w.\n",
        "      dj_db: (scalar)                The gradient of the cost w.r.t. the parameter b.\n",
        "    \"\"\"\n",
        "    m, n = X.shape\n",
        "    dj_dw = np.zeros(w.shape)\n",
        "    dj_db = 0.\n",
        "\n",
        "    ### START CODE HERE ###\n",
        "\n",
        "    dj_db = np.sum(sigmoid(X @ w + b) - y) / m\n",
        "    dj_dw = (X.T @ (sigmoid(X @ w + b) - y)) / m\n",
        "  \n",
        "\n",
        "    ### END CODE HERE ###\n",
        "\n",
        "    return dj_db, dj_dw"
      ]
    },
    {
      "cell_type": "markdown",
      "metadata": {
        "id": "Oh8DFVi7LMtW"
      },
      "source": [
        "Run the cells below to check your implementation of the `compute_gradient` function with two different initializations of the parameters $w$"
      ]
    },
    {
      "cell_type": "code",
      "execution_count": 49,
      "metadata": {
        "id": "9lYZ3_3TLMtW"
      },
      "outputs": [
        {
          "name": "stdout",
          "output_type": "stream",
          "text": [
            "dj_db at initial w (zeros):-0.1\n",
            "dj_dw at initial w (zeros):[-12.00921658929115, -11.262842205513591]\n"
          ]
        }
      ],
      "source": [
        "# Compute and display gradient with w initialized to zeroes\n",
        "initial_w = np.zeros(n)\n",
        "initial_b = 0.\n",
        "\n",
        "dj_db, dj_dw = compute_gradient(X_train, y_train, initial_w, initial_b)\n",
        "print(f'dj_db at initial w (zeros):{dj_db}' )\n",
        "print(f'dj_dw at initial w (zeros):{dj_dw.tolist()}' )"
      ]
    },
    {
      "cell_type": "markdown",
      "metadata": {
        "id": "WsfEQO2tLMtX"
      },
      "source": [
        "<a name=\"2.6\"></a>\n",
        "### 2.6 Learning parameters using gradient descent\n",
        "\n",
        "Similar to the previous assignment, you will now find the optimal parameters of a logistic regression model by using gradient descent.\n",
        "- You don't need to implement anything for this part. Simply run the cells below.\n",
        "\n",
        "- A good way to verify that gradient descent is working correctly is to look\n",
        "at the value of $J(\\mathbf{w},b)$ and check that it is decreasing with each step.\n",
        "\n",
        "- Assuming you have implemented the gradient and computed the cost correctly, your value of $J(\\mathbf{w},b)$ should never increase, and should converge to a steady value by the end of the algorithm."
      ]
    },
    {
      "cell_type": "code",
      "execution_count": 50,
      "metadata": {
        "id": "BZW-Jk_KLMtX"
      },
      "outputs": [],
      "source": [
        "def gradient_descent(X, y, w_in, b_in, cost_function, gradient_function, alpha, num_iters, lambda_):\n",
        "    \"\"\"\n",
        "    Performs batch gradient descent to learn theta. Updates theta by taking\n",
        "    num_iters gradient steps with learning rate alpha\n",
        "\n",
        "    Args:\n",
        "      X :    (array_like Shape (m, n)\n",
        "      y :    (array_like Shape (m,))\n",
        "      w_in : (array_like Shape (n,))  Initial values of parameters of the model\n",
        "      b_in : (scalar)                 Initial value of parameter of the model\n",
        "      cost_function:                  function to compute cost\n",
        "      alpha : (float)                 Learning rate\n",
        "      num_iters : (int)               number of iterations to run gradient descent\n",
        "      lambda_ (scalar, float)         regularization constant\n",
        "\n",
        "    Returns:\n",
        "      w : (array_like Shape (n,)) Updated values of parameters of the model after\n",
        "          running gradient descent\n",
        "      b : (scalar)                Updated value of parameter of the model after\n",
        "          running gradient descent\n",
        "    \"\"\"\n",
        "\n",
        "    # number of training examples\n",
        "    m = len(X)\n",
        "\n",
        "    # An array to store cost J and w's at each iteration primarily for graphing later\n",
        "    J_history = []\n",
        "    w_history = []\n",
        "\n",
        "    for i in range(num_iters):\n",
        "\n",
        "        # Calculate the gradient and update the parameters\n",
        "        dj_db, dj_dw = gradient_function(X, y, w_in, b_in, lambda_)\n",
        "\n",
        "        # Update Parameters using w, b, alpha and gradient\n",
        "        w_in = w_in - alpha * dj_dw\n",
        "        b_in = b_in - alpha * dj_db\n",
        "\n",
        "        # Save cost J at each iteration\n",
        "        if i<100000:      # prevent resource exhaustion\n",
        "            cost =  cost_function(X, y, w_in, b_in, lambda_)\n",
        "            J_history.append(cost)\n",
        "\n",
        "        # Print cost every at intervals 10 times or as many iterations if < 10\n",
        "        if i% math.ceil(num_iters/10) == 0 or i == (num_iters-1):\n",
        "            w_history.append(w_in)\n",
        "            print(f\"Iteration {i:4}: Cost {float(J_history[-1]):8.2f}   \")\n",
        "\n",
        "    return w_in, b_in, J_history, w_history #return w and J,w history for graphing"
      ]
    },
    {
      "cell_type": "markdown",
      "metadata": {
        "id": "fYd6fOpXLMtY"
      },
      "source": [
        "Now let's run the gradient descent algorithm above to learn the parameters for our dataset.\n",
        "\n",
        "**Note**\n",
        "\n",
        "The code block below takes a couple of minutes to run, especially with a non-vectorized version. You can reduce the `iterations` to test your implementation and iterate faster. If you have time, try running 100,000 iterations for better results."
      ]
    },
    {
      "cell_type": "code",
      "execution_count": 52,
      "metadata": {
        "id": "ICslx3SbLMtY"
      },
      "outputs": [
        {
          "name": "stdout",
          "output_type": "stream",
          "text": [
            "Iteration    0: Cost   206.76   \n",
            "Iteration 10000: Cost   597.16   \n",
            "Iteration 20000: Cost   639.28   \n",
            "Iteration 30000: Cost   664.31   \n",
            "Iteration 40000: Cost   682.23   \n",
            "Iteration 50000: Cost   696.23   \n",
            "Iteration 60000: Cost   707.72   \n",
            "Iteration 70000: Cost   717.49   \n",
            "Iteration 80000: Cost   725.97   \n",
            "Iteration 90000: Cost   733.48   \n",
            "Iteration 99999: Cost   740.22   \n"
          ]
        }
      ],
      "source": [
        "np.random.seed(1)\n",
        "initial_w = 0.01 * (np.random.rand(2).reshape(-1,1) - 0.5)\n",
        "initial_b = -8\n",
        "\n",
        "\n",
        "# Some gradient descent settings\n",
        "iterations = 100000\n",
        "alpha = 0.001\n",
        "\n",
        "w,b, J_history,_ = gradient_descent(X_train ,y_train, initial_w, initial_b,\n",
        "                                   compute_cost, compute_gradient, alpha, iterations, 0)"
      ]
    },
    {
      "cell_type": "markdown",
      "metadata": {
        "id": "k3ohQxzfLMtY"
      },
      "source": [
        "<a name=\"2.7\"></a>\n",
        "### 2.7 Plotting the decision boundary\n",
        "\n",
        "We will now use the final parameters from gradient descent to plot the linear fit. If you implemented the previous parts correctly, you should see the following plot:   \n",
        "\n",
        "We will use a helper function in the `utils.py` file to create this plot."
      ]
    },
    {
      "cell_type": "code",
      "execution_count": 53,
      "metadata": {
        "id": "T99aAC9GLMtY"
      },
      "outputs": [
        {
          "ename": "ValueError",
          "evalue": "operands could not be broadcast together with shapes (100,) (2,) ",
          "output_type": "error",
          "traceback": [
            "\u001b[1;31m---------------------------------------------------------------------------\u001b[0m",
            "\u001b[1;31mValueError\u001b[0m                                Traceback (most recent call last)",
            "Cell \u001b[1;32mIn[53], line 1\u001b[0m\n\u001b[1;32m----> 1\u001b[0m \u001b[43mplot_decision_boundary\u001b[49m\u001b[43m(\u001b[49m\u001b[43mw\u001b[49m\u001b[43m,\u001b[49m\u001b[43m \u001b[49m\u001b[43mb\u001b[49m\u001b[43m,\u001b[49m\u001b[43m \u001b[49m\u001b[43mX_train\u001b[49m\u001b[43m,\u001b[49m\u001b[43m \u001b[49m\u001b[43my_train\u001b[49m\u001b[43m)\u001b[49m\n",
            "File \u001b[1;32mc:\\Users\\mohammmadparsa\\OneDrive\\Desktop\\utils.py:44\u001b[0m, in \u001b[0;36mplot_decision_boundary\u001b[1;34m(w, b, X, y)\u001b[0m\n\u001b[0;32m     42\u001b[0m \u001b[38;5;28;01mif\u001b[39;00m X\u001b[38;5;241m.\u001b[39mshape[\u001b[38;5;241m1\u001b[39m] \u001b[38;5;241m<\u001b[39m\u001b[38;5;241m=\u001b[39m \u001b[38;5;241m2\u001b[39m:\n\u001b[0;32m     43\u001b[0m     plot_x \u001b[38;5;241m=\u001b[39m np\u001b[38;5;241m.\u001b[39marray([\u001b[38;5;28mmin\u001b[39m(X[:, \u001b[38;5;241m0\u001b[39m]), \u001b[38;5;28mmax\u001b[39m(X[:, \u001b[38;5;241m0\u001b[39m])])\n\u001b[1;32m---> 44\u001b[0m     plot_y \u001b[38;5;241m=\u001b[39m (\u001b[38;5;241m-\u001b[39m\u001b[38;5;241m1.\u001b[39m \u001b[38;5;241m/\u001b[39m w[\u001b[38;5;241m1\u001b[39m]) \u001b[38;5;241m*\u001b[39m (\u001b[43mw\u001b[49m\u001b[43m[\u001b[49m\u001b[38;5;241;43m0\u001b[39;49m\u001b[43m]\u001b[49m\u001b[43m \u001b[49m\u001b[38;5;241;43m*\u001b[39;49m\u001b[43m \u001b[49m\u001b[43mplot_x\u001b[49m \u001b[38;5;241m+\u001b[39m b)\n\u001b[0;32m     46\u001b[0m     plt\u001b[38;5;241m.\u001b[39mplot(plot_x, plot_y, c\u001b[38;5;241m=\u001b[39m\u001b[38;5;124m\"\u001b[39m\u001b[38;5;124mb\u001b[39m\u001b[38;5;124m\"\u001b[39m)\n\u001b[0;32m     48\u001b[0m \u001b[38;5;28;01melse\u001b[39;00m:\n",
            "\u001b[1;31mValueError\u001b[0m: operands could not be broadcast together with shapes (100,) (2,) "
          ]
        },
        {
          "data": {
            "image/png": "[encoded data removed]",
            "text/plain": [
              "<Figure size 640x480 with 1 Axes>"
            ]
          },
          "metadata": {},
          "output_type": "display_data"
        }
      ],
      "source": [
        "plot_decision_boundary(w, b, X_train, y_train)"
      ]
    },
    {
      "cell_type": "markdown",
      "metadata": {
        "id": "o0sU-_DkLMtZ"
      },
      "source": [
        "<a name=\"2.8\"></a>\n",
        "### 2.8 Evaluating logistic regression\n",
        "\n",
        "We can evaluate the quality of the parameters we have found by seeing how well the learned model predicts on our training set.\n",
        "\n",
        "You will implement the `predict` function below to do this.\n"
      ]
    },
    {
      "cell_type": "markdown",
      "metadata": {
        "id": "Lh7ut9kpLMtZ"
      },
      "source": [
        "<a name='ex-04'></a>\n",
        "### Exercise 4\n",
        "\n",
        "Please complete the `predict` function to produce `1` or `0` predictions given a dataset and a learned parameter vector $w$ and $b$.\n",
        "- First you need to compute the prediction from the model $f(x^{(i)}) = g(w \\cdot x^{(i)})$ for every example\n",
        "    - You've implemented this before in the parts above\n",
        "- We interpret the output of the model ($f(x^{(i)})$) as the probability that $y^{(i)}=1$ given $x^{(i)}$ and parameterized by $w$.\n",
        "- Therefore, to get a final prediction ($y^{(i)}=0$ or $y^{(i)}=1$) from the logistic regression model, you can use the following heuristic -\n",
        "\n",
        "  if $f(x^{(i)}) >= 0.5$, predict $y^{(i)}=1$\n",
        "  \n",
        "  if $f(x^{(i)}) < 0.5$, predict $y^{(i)}=0$"
      ]
    },
    {
      "cell_type": "code",
      "execution_count": 128,
      "metadata": {
        "id": "0O2HF4-hLMtZ"
      },
      "outputs": [],
      "source": [
        "# UNQ_C4\n",
        "# GRADED FUNCTION: predict\n",
        "\n",
        "def predict(X, w, b):\n",
        "    \"\"\"\n",
        "    Predict whether the label is 0 or 1 using learned logistic\n",
        "    regression parameters w\n",
        "\n",
        "    Args:\n",
        "    X : (ndarray Shape (m, n))\n",
        "    w : (array_like Shape (n,))      Parameters of the model\n",
        "    b : (scalar, float)              Parameter of the model\n",
        "\n",
        "    Returns:\n",
        "    p: (ndarray (m,1))\n",
        "        The predictions for X using a threshold at 0.5\n",
        "    \"\"\"\n",
        "    # number of training examples\n",
        "    m, n = X.shape\n",
        "    p = np.zeros(m)\n",
        "    ### START CODE HERE ###\n",
        "    # Loop over each example\n",
        "    for i in range(m):\n",
        "        z_wb = 0\n",
        "        # Loop over each feature\n",
        "        for j in range(n):\n",
        "            # Add the corresponding term to z_wb\n",
        "            z_wb += X[i, j] * w[j]\n",
        "\n",
        "        # Add bias term\n",
        "        z_wb += b\n",
        "        # Calculate the prediction for this example\n",
        "        f_wb = sigmoid(z_wb)\n",
        "        # Apply the threshold\n",
        "        p[i] = 1 if f_wb >= 0.5 else 0\n",
        "\n",
        "    ### END CODE HERE ###\n",
        "    return p"
      ]
    },
    {
      "cell_type": "markdown",
      "metadata": {
        "id": "M66KWHKDLMta"
      },
      "source": [
        "Once you have completed the function `predict`, let's run the code below to report the training accuracy of your classifier by computing the percentage of examples it got correct."
      ]
    },
    {
      "cell_type": "code",
      "execution_count": 129,
      "metadata": {
        "id": "AYmCvur_LMta"
      },
      "outputs": [
        {
          "name": "stdout",
          "output_type": "stream",
          "text": [
            "Output of predict: shape (4,), value [0. 1. 1. 1.]\n",
            "\u001b[92mAll tests passed!\n"
          ]
        }
      ],
      "source": [
        "# Test your predict code\n",
        "np.random.seed(1)\n",
        "tmp_w = np.random.randn(2)\n",
        "tmp_b = 0.3\n",
        "tmp_X = np.random.randn(4, 2) - 0.5\n",
        "\n",
        "tmp_p = predict(tmp_X, tmp_w, tmp_b)\n",
        "print(f'Output of predict: shape {tmp_p.shape}, value {tmp_p}')\n",
        "\n",
        "# UNIT TESTS\n",
        "predict_test(predict)"
      ]
    },
    {
      "cell_type": "code",
      "execution_count": 127,
      "metadata": {},
      "outputs": [],
      "source": [
        "# UNQ_C4\n",
        "# GRADED FUNCTION: predict\n",
        "\n",
        "def predict(X, w, b):\n",
        "    \"\"\"\n",
        "    Predict whether the label is 0 or 1 using learned logistic\n",
        "    regression parameters w\n",
        "\n",
        "    Args:\n",
        "    X : (ndarray Shape (m, n))\n",
        "    w : (array_like Shape (n,))      Parameters of the model\n",
        "    b : (scalar, float)              Parameter of the model\n",
        "\n",
        "    Returns:\n",
        "    p: (ndarray (m,1))\n",
        "        The predictions for X using a threshold at 0.5\n",
        "    \"\"\"\n",
        "    # number of training examples\n",
        "    m, n = X.shape\n",
        "    p = np.zeros(m)\n",
        "    ### START CODE HERE ###\n",
        "    # Loop over each example\n",
        "    for i in range(m):\n",
        "        z_wb = 0\n",
        "        # Loop over each feature\n",
        "        for j in range(n):\n",
        "            # Add the corresponding term to z_wb\n",
        "            z_wb += X[i, j] * w.T[i, j]\n",
        "\n",
        "        # Add bias term\n",
        "        z_wb += b\n",
        "        # Calculate the prediction for this example\n",
        "        f_wb = sigmoid(z_wb)\n",
        "        # Apply the threshold\n",
        "        p[i] = 1 if f_wb >= 0.5 else 0\n",
        "\n",
        "    ### END CODE HERE ###\n",
        "    return p"
      ]
    },
    {
      "cell_type": "markdown",
      "metadata": {
        "id": "9LeSWr7vLMta"
      },
      "source": [
        "Now let's use this to compute the accuracy on the training set"
      ]
    },
    {
      "cell_type": "code",
      "execution_count": 124,
      "metadata": {
        "id": "G6ocYlajLMta"
      },
      "outputs": [
        {
          "name": "stdout",
          "output_type": "stream",
          "text": [
            "Train Accuracy: 100.000000\n"
          ]
        }
      ],
      "source": [
        "#Compute accuracy on our training set\n",
        "p = predict(X_train, w,b)\n",
        "print('Train Accuracy: %f'%(np.mean(p == y_train) * 100))"
      ]
    },
    {
      "cell_type": "markdown",
      "metadata": {
        "id": "0dxk8_9BLMta"
      },
      "source": [
        "<table>\n",
        "  <tr>\n",
        "    <td> <b>Train Accuracy (approx):<b></td>\n",
        "    <td> 92.00 </td>\n",
        "  </tr>\n",
        "</table>"
      ]
    },
    {
      "cell_type": "markdown",
      "metadata": {
        "id": "fZep_9RwLMtb"
      },
      "source": [
        "<a name=\"3\"></a>\n",
        "## 3 - Regularized Logistic Regression\n",
        "\n",
        "In this part of the exercise, you will implement regularized logistic regression to predict whether microchips from a fabrication plant passes quality assurance (QA). During QA, each microchip goes through various tests to ensure it is functioning correctly.\n",
        "\n",
        "<a name=\"3.1\"></a>\n",
        "### 3.1 Problem Statement\n",
        "\n",
        "Suppose you are the product manager of the factory and you have the test results for some microchips on two different tests.\n",
        "- From these two tests, you would like to determine whether the microchips should be accepted or rejected.\n",
        "- To help you make the decision, you have a dataset of test results on past microchips, from which you can build a logistic regression model.\n",
        "\n",
        "<a name=\"3.2\"></a>\n",
        "### 3.2 Loading and visualizing the data\n",
        "\n",
        "Similar to previous parts of this exercise, let's start by loading the dataset for this task and visualizing it.\n",
        "\n",
        "- The `load_dataset()` function shown below loads the data into variables `X_train` and `y_train`\n",
        "  - `X_train` contains the test results for the microchips from two tests\n",
        "  - `y_train` contains the results of the QA  \n",
        "      - `y_train = 1` if the microchip was accepted\n",
        "      - `y_train = 0` if the microchip was rejected\n",
        "  - Both `X_train` and `y_train` are numpy arrays."
      ]
    },
    {
      "cell_type": "code",
      "execution_count": 130,
      "metadata": {
        "id": "v759y0VGLMtb"
      },
      "outputs": [],
      "source": [
        "# load dataset\n",
        "X_train, y_train = load_data(\"ex2data2.txt\")"
      ]
    },
    {
      "cell_type": "markdown",
      "metadata": {
        "id": "Z8KbdHEsLMtb"
      },
      "source": [
        "#### View the variables\n",
        "\n",
        "The code below prints the first five values of `X_train` and `y_train` and the type of the variables.\n"
      ]
    },
    {
      "cell_type": "code",
      "execution_count": 131,
      "metadata": {
        "id": "cS-DGFGkLMtb"
      },
      "outputs": [
        {
          "name": "stdout",
          "output_type": "stream",
          "text": [
            "X_train: [[ 0.051267  0.69956 ]\n",
            " [-0.092742  0.68494 ]\n",
            " [-0.21371   0.69225 ]\n",
            " [-0.375     0.50219 ]\n",
            " [-0.51325   0.46564 ]]\n",
            "Type of X_train: <class 'numpy.ndarray'>\n",
            "y_train: [1. 1. 1. 1. 1.]\n",
            "Type of y_train: <class 'numpy.ndarray'>\n"
          ]
        }
      ],
      "source": [
        "# print X_train\n",
        "print(\"X_train:\", X_train[:5])\n",
        "print(\"Type of X_train:\",type(X_train))\n",
        "\n",
        "# print y_train\n",
        "print(\"y_train:\", y_train[:5])\n",
        "print(\"Type of y_train:\",type(y_train))"
      ]
    },
    {
      "cell_type": "markdown",
      "metadata": {
        "id": "cx1mqmrmLMtb"
      },
      "source": [
        "#### Check the dimensions of your variables\n",
        "\n",
        "Another useful way to get familiar with your data is to view its dimensions. Let's print the shape of `X_train` and `y_train` and see how many training examples we have in our dataset."
      ]
    },
    {
      "cell_type": "code",
      "execution_count": 132,
      "metadata": {
        "id": "uvy9eySDLMtb"
      },
      "outputs": [
        {
          "name": "stdout",
          "output_type": "stream",
          "text": [
            "The shape of X_train is: (118, 2)\n",
            "The shape of y_train is: (118,)\n",
            "We have m = 118 training examples\n"
          ]
        }
      ],
      "source": [
        "print ('The shape of X_train is: ' + str(X_train.shape))\n",
        "print ('The shape of y_train is: ' + str(y_train.shape))\n",
        "print ('We have m = %d training examples' % (len(y_train)))"
      ]
    },
    {
      "cell_type": "markdown",
      "metadata": {
        "id": "OxZxPo9OLMtb"
      },
      "source": [
        "#### Visualize your data\n",
        "\n",
        "The helper function `plot_data` (from `utils.py`) is used to generate a figure like Figure 3, where the axes are the two test scores, and the positive (y = 1, accepted) and negative (y = 0, rejected) examples are shown with different markers.\n"
      ]
    },
    {
      "cell_type": "code",
      "execution_count": 133,
      "metadata": {
        "id": "DKKgMxI4LMtb"
      },
      "outputs": [
        {
          "data": {
            "image/png": "[encoded data removed]",
            "text/plain": [
              "<Figure size 640x480 with 1 Axes>"
            ]
          },
          "metadata": {},
          "output_type": "display_data"
        }
      ],
      "source": [
        "# Plot examples\n",
        "plot_data(X_train, y_train[:], pos_label=\"Accepted\", neg_label=\"Rejected\")\n",
        "\n",
        "# Set the y-axis label\n",
        "plt.ylabel('Microchip Test 2')\n",
        "# Set the x-axis label\n",
        "plt.xlabel('Microchip Test 1')\n",
        "plt.legend(loc=\"upper right\")\n",
        "plt.show()"
      ]
    },
    {
      "cell_type": "markdown",
      "metadata": {
        "id": "y32tKnnuLMtc"
      },
      "source": [
        "Figure 3 shows that our dataset cannot be separated into positive and negative examples by a straight-line through the plot. Therefore, a straight forward application of logistic regression will not perform well on this dataset since logistic regression will only be able to find a linear decision boundary.\n"
      ]
    },
    {
      "cell_type": "markdown",
      "metadata": {
        "id": "YhEk_WqRLMtc"
      },
      "source": [
        "<a name=\"3.3\"></a>\n",
        "### 3.3 Feature mapping\n",
        "\n",
        "One way to fit the data better is to create more features from each data point. In the provided function `map_feature`, we will map the features into all polynomial terms of $x_1$ and $x_2$ up to the sixth power.\n",
        "\n",
        "$$\\mathrm{map\\_feature}(x) =\n",
        "\\left[\\begin{array}{c}\n",
        "x_1\\\\\n",
        "x_2\\\\\n",
        "x_1^2\\\\\n",
        "x_1 x_2\\\\\n",
        "x_2^2\\\\\n",
        "x_1^3\\\\\n",
        "\\vdots\\\\\n",
        "x_1 x_2^5\\\\\n",
        "x_2^6\\end{array}\\right]$$\n",
        "\n",
        "As a result of this mapping, our vector of two features (the scores on two QA tests) has been transformed into a 27-dimensional vector.\n",
        "\n",
        "- A logistic regression classifier trained on this higher-dimension feature vector will have a more complex decision boundary and will be nonlinear when drawn in our 2-dimensional plot.\n",
        "- We have provided the `map_feature` function for you in utils.py."
      ]
    },
    {
      "cell_type": "code",
      "execution_count": 134,
      "metadata": {
        "id": "MY6n-N-3LMtc"
      },
      "outputs": [
        {
          "name": "stdout",
          "output_type": "stream",
          "text": [
            "Original shape of data: (118, 2)\n",
            "Shape after feature mapping: (118, 27)\n"
          ]
        }
      ],
      "source": [
        "print(\"Original shape of data:\", X_train.shape)\n",
        "\n",
        "mapped_X =  map_feature(X_train[:, 0], X_train[:, 1])\n",
        "print(\"Shape after feature mapping:\", mapped_X.shape)"
      ]
    },
    {
      "cell_type": "markdown",
      "metadata": {
        "id": "7aTpycfjLMtc"
      },
      "source": [
        "Let's also print the first elements of `X_train` and `mapped_X` to see the tranformation."
      ]
    },
    {
      "cell_type": "code",
      "execution_count": 135,
      "metadata": {
        "id": "wNX-1MYDLMtc"
      },
      "outputs": [
        {
          "name": "stdout",
          "output_type": "stream",
          "text": [
            "X_train[0]: [0.051267 0.69956 ]\n",
            "mapped X_train[0]: [5.12670000e-02 6.99560000e-01 2.62830529e-03 3.58643425e-02\n",
            " 4.89384194e-01 1.34745327e-04 1.83865725e-03 2.50892595e-02\n",
            " 3.42353606e-01 6.90798869e-06 9.42624411e-05 1.28625106e-03\n",
            " 1.75514423e-02 2.39496889e-01 3.54151856e-07 4.83255257e-06\n",
            " 6.59422333e-05 8.99809795e-04 1.22782870e-02 1.67542444e-01\n",
            " 1.81563032e-08 2.47750473e-07 3.38066048e-06 4.61305487e-05\n",
            " 6.29470940e-04 8.58939846e-03 1.17205992e-01]\n"
          ]
        }
      ],
      "source": [
        "print(\"X_train[0]:\", X_train[0])\n",
        "print(\"mapped X_train[0]:\", mapped_X[0])"
      ]
    },
    {
      "cell_type": "markdown",
      "metadata": {
        "id": "rzTCXJIQLMtd"
      },
      "source": [
        "While the feature mapping allows us to build a more expressive classifier, it is also more susceptible to overfitting. In the next parts of the exercise, you will implement regularized logistic regression to fit the data and also see for yourself how regularization can help combat the overfitting problem.\n",
        "\n",
        "<a name=\"3.4\"></a>\n",
        "### 3.4 Cost function for regularized logistic regression\n",
        "\n",
        "In this part, you will implement the cost function for regularized logistic regression.\n",
        "\n",
        "Recall that for regularized logistic regression, the cost function is of the form\n",
        "$$J(\\mathbf{w},b) = \\frac{1}{m}  \\sum_{i=0}^{m-1} \\left[ -y^{(i)} \\log\\left(f_{\\mathbf{w},b}\\left( \\mathbf{x}^{(i)} \\right) \\right) - \\left( 1 - y^{(i)}\\right) \\log \\left( 1 - f_{\\mathbf{w},b}\\left( \\mathbf{x}^{(i)} \\right) \\right) \\right] + \\frac{\\lambda}{2m}  \\sum_{j=0}^{n-1} w_j^2$$\n",
        "\n",
        "Compare this to the cost function without regularization (which you implemented above), which is of the form\n",
        "\n",
        "$$ J(\\mathbf{w}.b) = \\frac{1}{m}\\sum_{i=0}^{m-1} \\left[ (-y^{(i)} \\log\\left(f_{\\mathbf{w},b}\\left( \\mathbf{x}^{(i)} \\right) \\right) - \\left( 1 - y^{(i)}\\right) \\log \\left( 1 - f_{\\mathbf{w},b}\\left( \\mathbf{x}^{(i)} \\right) \\right)\\right]$$\n",
        "\n",
        "The difference is the regularization term, which is $$\\frac{\\lambda}{2m}  \\sum_{j=0}^{n-1} w_j^2$$\n",
        "Note that the $b$ parameter is not regularized."
      ]
    },
    {
      "cell_type": "markdown",
      "metadata": {
        "id": "QeCo2OjBLMtd"
      },
      "source": [
        "<a name='ex-05'></a>\n",
        "### Exercise 5\n",
        "\n",
        "Please complete the `compute_cost_reg` function below to calculate the following term for each element in $w$\n",
        "$$\\frac{\\lambda}{2m}  \\sum_{j=0}^{n-1} w_j^2$$\n",
        "\n",
        "The starter code then adds this to the cost without regularization (which you computed above in `compute_cost`) to calculate the cost with regulatization."
      ]
    },
    {
      "cell_type": "code",
      "execution_count": 136,
      "metadata": {
        "id": "svjfSC-PLMtd"
      },
      "outputs": [],
      "source": [
        "# UNQ_C5\n",
        "def compute_cost_reg(X, y, w, b, lambda_ = 1):\n",
        "    \"\"\"\n",
        "    Computes the cost over all examples\n",
        "    Args:\n",
        "      X : (array_like Shape (m,n)) data, m examples by n features\n",
        "      y : (array_like Shape (m,)) target value\n",
        "      w : (array_like Shape (n,)) Values of parameters of the model\n",
        "      b : (array_like Shape (n,)) Values of bias parameter of the model\n",
        "      lambda_ : (scalar, float)    Controls amount of regularization\n",
        "    Returns:\n",
        "      total_cost: (scalar)         cost\n",
        "    \"\"\"\n",
        "\n",
        "    m, n = X.shape\n",
        "\n",
        "    # Calls the compute_cost function that you implemented above\n",
        "    cost_without_reg = compute_cost(X, y, w, b)\n",
        "\n",
        "    # You need to calculate this value\n",
        "    reg_cost = 0.\n",
        "\n",
        "    ### START CODE HERE ###\n",
        "\n",
        "    reg_cost = w.T @ w\n",
        "\n",
        "    ### END CODE HERE ###\n",
        "\n",
        "    # Add the regularization cost to get the total cost\n",
        "    total_cost = cost_without_reg + (lambda_/(2 * m)) * reg_cost\n",
        "\n",
        "    return total_cost"
      ]
    },
    {
      "cell_type": "markdown",
      "metadata": {
        "id": "1XM7UMUXLMtd"
      },
      "source": [
        "Run the cell below to check your implementation of the `compute_cost_reg` function."
      ]
    },
    {
      "cell_type": "code",
      "execution_count": 137,
      "metadata": {
        "id": "Bki1YvHeLMtd"
      },
      "outputs": [
        {
          "name": "stdout",
          "output_type": "stream",
          "text": [
            "Regularized cost : 0.661825255248395\n",
            "\u001b[92mAll tests passed!\n"
          ]
        }
      ],
      "source": [
        "X_mapped = map_feature(X_train[:, 0], X_train[:, 1])\n",
        "np.random.seed(1)\n",
        "initial_w = np.random.rand(X_mapped.shape[1]) - 0.5\n",
        "initial_b = 0.5\n",
        "lambda_ = 0.5\n",
        "cost = compute_cost_reg(X_mapped, y_train, initial_w, initial_b, lambda_)\n",
        "\n",
        "print(\"Regularized cost :\", cost)\n",
        "\n",
        "# UNIT TEST\n",
        "compute_cost_reg_test(compute_cost_reg)\n"
      ]
    },
    {
      "cell_type": "markdown",
      "metadata": {
        "id": "1oBovEWsLMte"
      },
      "source": [
        "<a name=\"3.5\"></a>\n",
        "### 3.5 Gradient for regularized logistic regression\n",
        "\n",
        "In this section, you will implement the gradient for regularized logistic regression.\n",
        "\n",
        "\n",
        "The gradient of the regularized cost function has two components. The first, $\\frac{\\partial J(\\mathbf{w},b)}{\\partial b}$ is a scalar, the other is a vector with the same shape as the parameters $\\mathbf{w}$, where the $j^\\mathrm{th}$ element is defined as follows:\n",
        "\n",
        "$$\\frac{\\partial J(\\mathbf{w},b)}{\\partial b} = \\frac{1}{m}  \\sum_{i=0}^{m-1} (f_{\\mathbf{w},b}(\\mathbf{x}^{(i)}) - y^{(i)})  $$\n",
        "\n",
        "$$\\frac{\\partial J(\\mathbf{w},b)}{\\partial w_j} = \\left( \\frac{1}{m}  \\sum_{i=0}^{m-1} (f_{\\mathbf{w},b}(\\mathbf{x}^{(i)}) - y^{(i)}) x_j^{(i)} \\right) + \\frac{\\lambda}{m} w_j  \\quad\\, \\mbox{for $j=0...(n-1)$}$$\n",
        "\n",
        "Compare this to the gradient of the cost function without regularization (which you implemented above), which is of the form\n",
        "$$\n",
        "\\frac{\\partial J(\\mathbf{w},b)}{\\partial b}  = \\frac{1}{m} \\sum\\limits_{i = 0}^{m-1} (f_{\\mathbf{w},b}(\\mathbf{x}^{(i)}) - \\mathbf{y}^{(i)}) \\tag{2}\n",
        "$$\n",
        "$$\n",
        "\\frac{\\partial J(\\mathbf{w},b)}{\\partial w_j}  = \\frac{1}{m} \\sum\\limits_{i = 0}^{m-1} (f_{\\mathbf{w},b}(\\mathbf{x}^{(i)}) - \\mathbf{y}^{(i)})x_{j}^{(i)} \\tag{3}\n",
        "$$\n",
        "\n",
        "\n",
        "As you can see,$\\frac{\\partial J(\\mathbf{w},b)}{\\partial b}$ is the same, the difference is the following term in $\\frac{\\partial J(\\mathbf{w},b)}{\\partial w}$, which is $$\\frac{\\lambda}{m} w_j  \\quad\\, \\mbox{for $j=0...(n-1)$}$$\n",
        "\n",
        "\n",
        "\n"
      ]
    },
    {
      "cell_type": "markdown",
      "metadata": {
        "id": "jEegD0QfLMte"
      },
      "source": [
        "<a name='ex-06'></a>\n",
        "### Exercise 6\n",
        "\n",
        "Please complete the `compute_gradient_reg` function below to modify the code below to calculate the following term\n",
        "\n",
        "$$\\frac{\\lambda}{m} w_j  \\quad\\, \\mbox{for $j=0...(n-1)$}$$\n",
        "\n",
        "The starter code will add this term to the $\\frac{\\partial J(\\mathbf{w},b)}{\\partial w}$ returned from `compute_gradient` above to get the gradient for the regularized cost function."
      ]
    },
    {
      "cell_type": "code",
      "execution_count": 138,
      "metadata": {
        "id": "tFB7e4ZvLMte"
      },
      "outputs": [],
      "source": [
        "# UNQ_C6\n",
        "def compute_gradient_reg(X, y, w, b, lambda_ = 1):\n",
        "    \"\"\"\n",
        "    Computes the gradient for linear regression\n",
        "\n",
        "    Args:\n",
        "      X : (ndarray Shape (m,n))   variable such as house size\n",
        "      y : (ndarray Shape (m,))    actual value\n",
        "      w : (ndarray Shape (n,))    values of parameters of the model\n",
        "      b : (scalar)                value of parameter of the model\n",
        "      lambda_ : (scalar,float)    regularization constant\n",
        "    Returns\n",
        "      dj_db: (scalar)             The gradient of the cost w.r.t. the parameter b.\n",
        "      dj_dw: (ndarray Shape (n,)) The gradient of the cost w.r.t. the parameters w.\n",
        "\n",
        "    \"\"\"\n",
        "    m, n = X.shape\n",
        "\n",
        "    dj_db, dj_dw = compute_gradient(X, y, w, b)\n",
        "\n",
        "    ### START CODE HERE ###\n",
        "    dj_dw = dj_dw + w * (lambda_ / m)\n",
        "\n",
        "    ### END CODE HERE ###\n",
        "\n",
        "    return dj_db, dj_dw"
      ]
    },
    {
      "cell_type": "markdown",
      "metadata": {
        "id": "beNX7KtZLMte"
      },
      "source": [
        "Run the cell below to check your implementation of the `compute_gradient_reg` function."
      ]
    },
    {
      "cell_type": "code",
      "execution_count": 139,
      "metadata": {
        "id": "6w_1YYxpLMtf"
      },
      "outputs": [
        {
          "name": "stdout",
          "output_type": "stream",
          "text": [
            "dj_db: 0.07138288792343654\n",
            "First few elements of regularized dj_dw:\n",
            " [-0.010386028450548689, 0.011409852883280117, 0.0536273463274574, 0.003140278267313467]\n",
            "\u001b[92mAll tests passed!\n"
          ]
        }
      ],
      "source": [
        "X_mapped = map_feature(X_train[:, 0], X_train[:, 1])\n",
        "np.random.seed(1)\n",
        "initial_w  = np.random.rand(X_mapped.shape[1]) - 0.5\n",
        "initial_b = 0.5\n",
        "\n",
        "lambda_ = 0.5\n",
        "dj_db, dj_dw = compute_gradient_reg(X_mapped, y_train, initial_w, initial_b, lambda_)\n",
        "\n",
        "print(f\"dj_db: {dj_db}\", )\n",
        "print(f\"First few elements of regularized dj_dw:\\n {dj_dw[:4].tolist()}\", )\n",
        "\n",
        "# UNIT TESTS\n",
        "compute_gradient_reg_test(compute_gradient_reg)\n"
      ]
    },
    {
      "cell_type": "markdown",
      "metadata": {
        "id": "4TXVDbo3LMtf"
      },
      "source": [
        "<a name=\"3.6\"></a>\n",
        "### 3.6 Learning parameters using gradient descent\n",
        "\n",
        "Similar to the previous parts, you will use your gradient descent function implemented above to learn the optimal parameters $w$,$b$.\n",
        "- If you have completed the cost and gradient for regularized logistic regression correctly, you should be able to step through the next cell to learn the parameters $w$.\n",
        "- After training our parameters, we will use it to plot the decision boundary.\n",
        "\n",
        "**Note**\n",
        "\n",
        "The code block below takes quite a while to run, especially with a non-vectorized version. You can reduce the `iterations` to test your implementation and iterate faster. If you hae time, run for 100,000 iterations to see better results."
      ]
    },
    {
      "cell_type": "code",
      "execution_count": 159,
      "metadata": {
        "id": "Cf9OWLsoLMtf"
      },
      "outputs": [
        {
          "name": "stdout",
          "output_type": "stream",
          "text": [
            "Iteration    0: Cost     0.72   \n",
            "Iteration 10000: Cost     0.44   \n",
            "Iteration 20000: Cost     0.40   \n",
            "Iteration 30000: Cost     0.38   \n",
            "Iteration 40000: Cost     0.36   \n",
            "Iteration 50000: Cost     0.36   \n",
            "Iteration 60000: Cost     0.35   \n",
            "Iteration 70000: Cost     0.35   \n",
            "Iteration 80000: Cost     0.35   \n",
            "Iteration 90000: Cost     0.34   \n",
            "Iteration 99999: Cost     0.34   \n"
          ]
        }
      ],
      "source": [
        "# Initialize fitting parameters\n",
        "np.random.seed(1)\n",
        "initial_w = np.random.rand(X_mapped.shape[1])-0.5\n",
        "initial_b = 1.\n",
        "\n",
        "# Set regularization parameter lambda_ to 1 (you can try varying this)\n",
        "lambda_ = 0.001\n",
        "# Some gradient descent settings\n",
        "iterations = 100000\n",
        "alpha = 0.01\n",
        "\n",
        "w,b, J_history,_ = gradient_descent(X_mapped, y_train, initial_w, initial_b,\n",
        "                                    compute_cost_reg, compute_gradient_reg,\n",
        "                                    alpha, iterations, lambda_)"
      ]
    },
    {
      "cell_type": "markdown",
      "metadata": {
        "id": "tpSs2s5ILMtf"
      },
      "source": [
        "<a name=\"3.7\"></a>\n",
        "### 3.7 Plotting the decision boundary\n",
        "To help you visualize the model learned by this classifier, we will use our `plot_decision_boundary` function which plots the (non-linear) decision boundary that separates the positive and negative examples.\n",
        "\n",
        "- In the function, we plotted the non-linear decision boundary by computing the classifier’s predictions on an evenly spaced grid and then drew a contour plot of where the predictions change from y = 0 to y = 1.\n",
        "\n",
        "- After learning the parameters $w$,$b$, the next step is to plot a decision boundary similar to Figure 4.\n"
      ]
    },
    {
      "cell_type": "code",
      "execution_count": 160,
      "metadata": {
        "id": "Ric1qJZ6LMtg"
      },
      "outputs": [
        {
          "data": {
            "image/png": "[encoded data removed]",
            "text/plain": [
              "<Figure size 640x480 with 1 Axes>"
            ]
          },
          "metadata": {},
          "output_type": "display_data"
        }
      ],
      "source": [
        "plot_decision_boundary(w, b, X_mapped, y_train)"
      ]
    },
    {
      "cell_type": "markdown",
      "metadata": {
        "id": "GlTgYnfdLMtg"
      },
      "source": [
        "<a name=\"3.8\"></a>\n",
        "### 3.8 Evaluating regularized logistic regression model\n",
        "\n",
        "You will use the `predict` function that you implemented above to calculate the accuracy of the regulaized logistic regression model on the training set"
      ]
    },
    {
      "cell_type": "code",
      "execution_count": 161,
      "metadata": {
        "id": "NUtpG0k9LMtg"
      },
      "outputs": [
        {
          "name": "stdout",
          "output_type": "stream",
          "text": [
            "Train Accuracy: 83.898305\n"
          ]
        }
      ],
      "source": [
        "#Compute accuracy on the training set\n",
        "p = predict(X_mapped, w, b)\n",
        "\n",
        "print('Train Accuracy: %f'%(np.mean(p == y_train) * 100))"
      ]
    },
    {
      "cell_type": "markdown",
      "metadata": {
        "id": "szkHDayGLMtg"
      },
      "source": [
        "**Expected Output**:\n",
        "<table>\n",
        "  <tr>\n",
        "    <td> <b>Train Accuracy:</b>~ 80%</td> </tr>\n",
        "</table>"
      ]
    },
    {
      "cell_type": "markdown",
      "metadata": {},
      "source": []
    }
  ],
  "metadata": {
    "colab": {
      "provenance": []
    },
    "kernelspec": {
      "display_name": "Python 3",
      "language": "python",
      "name": "python3"
    },
    "language_info": {
      "codemirror_mode": {
        "name": "ipython",
        "version": 3
      },
      "file_extension": ".py",
      "mimetype": "text/x-python",
      "name": "python",
      "nbconvert_exporter": "python",
      "pygments_lexer": "ipython3",
      "version": "3.10.6"
    }
  },
  "nbformat": 4,
  "nbformat_minor": 0
}
